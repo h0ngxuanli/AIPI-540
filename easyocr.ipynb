{
  "nbformat": 4,
  "nbformat_minor": 0,
  "metadata": {
    "colab": {
      "provenance": [],
      "gpuType": "T4",
      "authorship_tag": "ABX9TyOfPUsuzFF0IRrAxZaieN6k",
      "include_colab_link": true
    },
    "kernelspec": {
      "name": "python3",
      "display_name": "Python 3"
    },
    "language_info": {
      "name": "python"
    },
    "accelerator": "GPU"
  },
  "cells": [
    {
      "cell_type": "markdown",
      "metadata": {
        "id": "view-in-github",
        "colab_type": "text"
      },
      "source": [
        "<a href=\"https://colab.research.google.com/github/h0ngxuanli/AIPI-540/blob/tom-ocr/easyocr.ipynb\" target=\"_parent\"><img src=\"https://colab.research.google.com/assets/colab-badge.svg\" alt=\"Open In Colab\"/></a>"
      ]
    },
    {
      "cell_type": "code",
      "execution_count": 1,
      "metadata": {
        "colab": {
          "base_uri": "https://localhost:8080/"
        },
        "id": "w2dbweXaWR_r",
        "outputId": "963aacf9-52fe-4635-987d-70461c2f326e"
      },
      "outputs": [
        {
          "output_type": "stream",
          "name": "stdout",
          "text": [
            "Cloning into 'AIPI-540'...\n",
            "remote: Enumerating objects: 445, done.\u001b[K\n",
            "remote: Counting objects: 100% (293/293), done.\u001b[K\n",
            "remote: Compressing objects: 100% (200/200), done.\u001b[K\n",
            "remote: Total 445 (delta 80), reused 265 (delta 65), pack-reused 152\u001b[K\n",
            "Receiving objects: 100% (445/445), 383.53 MiB | 25.21 MiB/s, done.\n",
            "Resolving deltas: 100% (84/84), done.\n",
            "Updating files: 100% (267/267), done.\n"
          ]
        }
      ],
      "source": [
        "!git clone 'https://github.com/h0ngxuanli/AIPI-540.git'"
      ]
    },
    {
      "cell_type": "code",
      "source": [
        "%cd AIPI-540"
      ],
      "metadata": {
        "colab": {
          "base_uri": "https://localhost:8080/"
        },
        "id": "PpPK6c7hyH8E",
        "outputId": "70e4b884-03c0-4ea0-fb42-eb09c0a7be91"
      },
      "execution_count": 7,
      "outputs": [
        {
          "output_type": "stream",
          "name": "stdout",
          "text": [
            "/content/AIPI-540\n"
          ]
        }
      ]
    },
    {
      "cell_type": "code",
      "source": [
        "!pip install easyocr"
      ],
      "metadata": {
        "colab": {
          "base_uri": "https://localhost:8080/"
        },
        "id": "VcXOq1Y-ygSS",
        "outputId": "5557dc9f-620c-4620-ac42-9b50955a7c26"
      },
      "execution_count": 4,
      "outputs": [
        {
          "output_type": "stream",
          "name": "stdout",
          "text": [
            "Collecting easyocr\n",
            "  Downloading easyocr-1.7.1-py3-none-any.whl (2.9 MB)\n",
            "\u001b[2K     \u001b[90m━━━━━━━━━━━━━━━━━━━━━━━━━━━━━━━━━━━━━━━━\u001b[0m \u001b[32m2.9/2.9 MB\u001b[0m \u001b[31m9.8 MB/s\u001b[0m eta \u001b[36m0:00:00\u001b[0m\n",
            "\u001b[?25hRequirement already satisfied: torch in /usr/local/lib/python3.10/dist-packages (from easyocr) (2.1.0+cu121)\n",
            "Requirement already satisfied: torchvision>=0.5 in /usr/local/lib/python3.10/dist-packages (from easyocr) (0.16.0+cu121)\n",
            "Requirement already satisfied: opencv-python-headless in /usr/local/lib/python3.10/dist-packages (from easyocr) (4.9.0.80)\n",
            "Requirement already satisfied: scipy in /usr/local/lib/python3.10/dist-packages (from easyocr) (1.11.4)\n",
            "Requirement already satisfied: numpy in /usr/local/lib/python3.10/dist-packages (from easyocr) (1.23.5)\n",
            "Requirement already satisfied: Pillow in /usr/local/lib/python3.10/dist-packages (from easyocr) (9.4.0)\n",
            "Requirement already satisfied: scikit-image in /usr/local/lib/python3.10/dist-packages (from easyocr) (0.19.3)\n",
            "Collecting python-bidi (from easyocr)\n",
            "  Downloading python_bidi-0.4.2-py2.py3-none-any.whl (30 kB)\n",
            "Requirement already satisfied: PyYAML in /usr/local/lib/python3.10/dist-packages (from easyocr) (6.0.1)\n",
            "Requirement already satisfied: Shapely in /usr/local/lib/python3.10/dist-packages (from easyocr) (2.0.2)\n",
            "Collecting pyclipper (from easyocr)\n",
            "  Downloading pyclipper-1.3.0.post5-cp310-cp310-manylinux_2_12_x86_64.manylinux2010_x86_64.whl (908 kB)\n",
            "\u001b[2K     \u001b[90m━━━━━━━━━━━━━━━━━━━━━━━━━━━━━━━━━━━━━━━━\u001b[0m \u001b[32m908.3/908.3 kB\u001b[0m \u001b[31m16.9 MB/s\u001b[0m eta \u001b[36m0:00:00\u001b[0m\n",
            "\u001b[?25hCollecting ninja (from easyocr)\n",
            "  Downloading ninja-1.11.1.1-py2.py3-none-manylinux1_x86_64.manylinux_2_5_x86_64.whl (307 kB)\n",
            "\u001b[2K     \u001b[90m━━━━━━━━━━━━━━━━━━━━━━━━━━━━━━━━━━━━━━━━\u001b[0m \u001b[32m307.2/307.2 kB\u001b[0m \u001b[31m14.9 MB/s\u001b[0m eta \u001b[36m0:00:00\u001b[0m\n",
            "\u001b[?25hRequirement already satisfied: requests in /usr/local/lib/python3.10/dist-packages (from torchvision>=0.5->easyocr) (2.31.0)\n",
            "Requirement already satisfied: filelock in /usr/local/lib/python3.10/dist-packages (from torch->easyocr) (3.13.1)\n",
            "Requirement already satisfied: typing-extensions in /usr/local/lib/python3.10/dist-packages (from torch->easyocr) (4.9.0)\n",
            "Requirement already satisfied: sympy in /usr/local/lib/python3.10/dist-packages (from torch->easyocr) (1.12)\n",
            "Requirement already satisfied: networkx in /usr/local/lib/python3.10/dist-packages (from torch->easyocr) (3.2.1)\n",
            "Requirement already satisfied: jinja2 in /usr/local/lib/python3.10/dist-packages (from torch->easyocr) (3.1.3)\n",
            "Requirement already satisfied: fsspec in /usr/local/lib/python3.10/dist-packages (from torch->easyocr) (2023.6.0)\n",
            "Requirement already satisfied: triton==2.1.0 in /usr/local/lib/python3.10/dist-packages (from torch->easyocr) (2.1.0)\n",
            "Requirement already satisfied: six in /usr/local/lib/python3.10/dist-packages (from python-bidi->easyocr) (1.16.0)\n",
            "Requirement already satisfied: imageio>=2.4.1 in /usr/local/lib/python3.10/dist-packages (from scikit-image->easyocr) (2.31.6)\n",
            "Requirement already satisfied: tifffile>=2019.7.26 in /usr/local/lib/python3.10/dist-packages (from scikit-image->easyocr) (2024.1.30)\n",
            "Requirement already satisfied: PyWavelets>=1.1.1 in /usr/local/lib/python3.10/dist-packages (from scikit-image->easyocr) (1.5.0)\n",
            "Requirement already satisfied: packaging>=20.0 in /usr/local/lib/python3.10/dist-packages (from scikit-image->easyocr) (23.2)\n",
            "Requirement already satisfied: MarkupSafe>=2.0 in /usr/local/lib/python3.10/dist-packages (from jinja2->torch->easyocr) (2.1.5)\n",
            "Requirement already satisfied: charset-normalizer<4,>=2 in /usr/local/lib/python3.10/dist-packages (from requests->torchvision>=0.5->easyocr) (3.3.2)\n",
            "Requirement already satisfied: idna<4,>=2.5 in /usr/local/lib/python3.10/dist-packages (from requests->torchvision>=0.5->easyocr) (3.6)\n",
            "Requirement already satisfied: urllib3<3,>=1.21.1 in /usr/local/lib/python3.10/dist-packages (from requests->torchvision>=0.5->easyocr) (2.0.7)\n",
            "Requirement already satisfied: certifi>=2017.4.17 in /usr/local/lib/python3.10/dist-packages (from requests->torchvision>=0.5->easyocr) (2024.2.2)\n",
            "Requirement already satisfied: mpmath>=0.19 in /usr/local/lib/python3.10/dist-packages (from sympy->torch->easyocr) (1.3.0)\n",
            "Installing collected packages: pyclipper, ninja, python-bidi, easyocr\n",
            "Successfully installed easyocr-1.7.1 ninja-1.11.1.1 pyclipper-1.3.0.post5 python-bidi-0.4.2\n"
          ]
        }
      ]
    },
    {
      "cell_type": "code",
      "source": [
        "import easyocr\n",
        "import os\n",
        "import csv\n",
        "\n",
        "# Initialize the EasyOCR reader\n",
        "reader = easyocr.Reader(['en'])  # Add additional languages as needed\n",
        "\n",
        "# Set the directory containing your .jpeg images\n",
        "image_folder_path = './JPEG_Dataset/'\n",
        "\n",
        "# Specify the path for the output CSV file\n",
        "output_csv_path = 'ocr_results_easyocr.csv'\n",
        "\n",
        "# Open the CSV file for writing\n",
        "with open(output_csv_path, mode='w', newline='', encoding='utf-8') as file:\n",
        "    writer = csv.writer(file)\n",
        "    # Write the header row\n",
        "    writer.writerow(['Image Name', 'Extracted Text'])\n",
        "\n",
        "    # Loop through all the images in the folder\n",
        "    for image_file in os.listdir(image_folder_path):\n",
        "        if image_file.endswith(\".jpeg\"):  # Adjust if you're using another file extension\n",
        "            image_path = os.path.join(image_folder_path, image_file)\n",
        "            try:\n",
        "                # Perform OCR on the image\n",
        "                results = reader.readtext(image_path)\n",
        "                # Concatenate all detected text pieces into one string\n",
        "                extracted_text = \" \".join([text for _, text, _ in results])\n",
        "                # Write the image name and extracted text to the CSV\n",
        "                writer.writerow([image_file, extracted_text])\n",
        "                print(f\"Processed {image_file}\")\n",
        "            except Exception as e:\n",
        "                print(f\"Error processing {image_file}: {e}\")\n",
        "\n",
        "print(f\"OCR results saved to {output_csv_path}\")"
      ],
      "metadata": {
        "colab": {
          "base_uri": "https://localhost:8080/"
        },
        "id": "AzY5li76yN61",
        "outputId": "c7e52eca-867d-405f-991b-60e726b466eb"
      },
      "execution_count": 8,
      "outputs": [
        {
          "output_type": "stream",
          "name": "stdout",
          "text": [
            "Processed 91.jpeg\n",
            "Processed 131.jpeg\n",
            "Processed 45.jpeg\n",
            "Processed 59.jpeg\n",
            "Error processing 108.jpeg: OpenCV(4.8.0) /io/opencv/modules/imgproc/src/resize.cpp:4062: error: (-215:Assertion failed) !ssize.empty() in function 'resize'\n",
            "\n",
            "Processed 36.jpeg\n",
            "Processed 65.jpeg\n",
            "Processed 92.jpeg\n",
            "Processed 44.jpeg\n",
            "Processed 40.jpeg\n",
            "Processed 125.jpeg\n",
            "Error processing 77.jpeg: OpenCV(4.8.0) /io/opencv/modules/imgproc/src/resize.cpp:4062: error: (-215:Assertion failed) !ssize.empty() in function 'resize'\n",
            "\n",
            "Processed 39.jpeg\n",
            "Processed 100.jpeg\n",
            "Error processing 93.jpeg: OpenCV(4.8.0) /io/opencv/modules/imgproc/src/resize.cpp:4062: error: (-215:Assertion failed) !ssize.empty() in function 'resize'\n",
            "\n",
            "Processed 54.jpeg\n",
            "Processed 80.jpeg\n",
            "Processed 32.jpeg\n",
            "Processed 82.jpeg\n",
            "Processed 67.jpeg\n",
            "Processed 60.jpeg\n",
            "Processed 43.jpeg\n",
            "Processed 25.jpeg\n",
            "Error processing 126.jpeg: OpenCV(4.8.0) /io/opencv/modules/imgproc/src/resize.cpp:4062: error: (-215:Assertion failed) !ssize.empty() in function 'resize'\n",
            "\n",
            "Error processing 102.jpeg: OpenCV(4.8.0) /io/opencv/modules/imgproc/src/resize.cpp:4062: error: (-215:Assertion failed) !ssize.empty() in function 'resize'\n",
            "\n",
            "Processed 52.jpeg\n",
            "Processed 41.jpeg\n",
            "Processed 107.jpeg\n",
            "Processed 56.jpeg\n",
            "Processed 71.jpeg\n",
            "Processed 42.jpeg\n",
            "Processed 34.jpeg\n",
            "Processed 73.jpeg\n",
            "Processed 68.jpeg\n",
            "Processed 88.jpeg\n",
            "Error processing 101.jpeg: OpenCV(4.8.0) /io/opencv/modules/imgproc/src/resize.cpp:4062: error: (-215:Assertion failed) !ssize.empty() in function 'resize'\n",
            "\n",
            "Processed 27.jpeg\n",
            "Processed 129.jpeg\n",
            "Processed 83.jpeg\n",
            "Processed 66.jpeg\n",
            "Processed 26.jpeg\n",
            "Processed 63.jpeg\n",
            "Processed 74.jpeg\n",
            "Error processing 117.jpeg: OpenCV(4.8.0) /io/opencv/modules/imgproc/src/resize.cpp:4062: error: (-215:Assertion failed) !ssize.empty() in function 'resize'\n",
            "\n",
            "Error processing 105.jpeg: OpenCV(4.8.0) /io/opencv/modules/imgproc/src/resize.cpp:4062: error: (-215:Assertion failed) !ssize.empty() in function 'resize'\n",
            "\n",
            "Processed 81.jpeg\n",
            "Processed 24.jpeg\n",
            "Processed 51.jpeg\n",
            "Processed 69.jpeg\n",
            "Processed 120.jpeg\n",
            "Error processing 76.jpeg: OpenCV(4.8.0) /io/opencv/modules/imgproc/src/resize.cpp:4062: error: (-215:Assertion failed) !ssize.empty() in function 'resize'\n",
            "\n",
            "Error processing 104.jpeg: OpenCV(4.8.0) /io/opencv/modules/imgproc/src/resize.cpp:4062: error: (-215:Assertion failed) !ssize.empty() in function 'resize'\n",
            "\n",
            "Error processing 115.jpeg: OpenCV(4.8.0) /io/opencv/modules/imgproc/src/resize.cpp:4062: error: (-215:Assertion failed) !ssize.empty() in function 'resize'\n",
            "\n",
            "Processed 89.jpeg\n",
            "Processed 110.jpeg\n",
            "Processed 72.jpeg\n",
            "Error processing 111.jpeg: OpenCV(4.8.0) /io/opencv/modules/imgproc/src/resize.cpp:4062: error: (-215:Assertion failed) !ssize.empty() in function 'resize'\n",
            "\n",
            "Processed 31.jpeg\n",
            "Processed 116.jpeg\n",
            "Processed 95.jpeg\n",
            "Error processing 106.jpeg: OpenCV(4.8.0) /io/opencv/modules/imgproc/src/resize.cpp:4062: error: (-215:Assertion failed) !ssize.empty() in function 'resize'\n",
            "\n",
            "Processed 58.jpeg\n",
            "Processed 97.jpeg\n",
            "Processed 47.jpeg\n",
            "Processed 94.jpeg\n",
            "Processed 29.jpeg\n",
            "Processed 50.jpeg\n",
            "Processed 28.jpeg\n",
            "Error processing 124.jpeg: OpenCV(4.8.0) /io/opencv/modules/imgproc/src/resize.cpp:4062: error: (-215:Assertion failed) !ssize.empty() in function 'resize'\n",
            "\n",
            "Processed 33.jpeg\n",
            "Processed 30.jpeg\n",
            "Processed 90.jpeg\n",
            "Processed 61.jpeg\n",
            "Error processing 86.jpeg: OpenCV(4.8.0) /io/opencv/modules/imgproc/src/resize.cpp:4062: error: (-215:Assertion failed) !ssize.empty() in function 'resize'\n",
            "\n",
            "Processed 37.jpeg\n",
            "Error processing 103.jpeg: OpenCV(4.8.0) /io/opencv/modules/imgproc/src/resize.cpp:4062: error: (-215:Assertion failed) !ssize.empty() in function 'resize'\n",
            "\n",
            "Processed 96.jpeg\n",
            "Error processing 85.jpeg: OpenCV(4.8.0) /io/opencv/modules/imgproc/src/resize.cpp:4062: error: (-215:Assertion failed) !ssize.empty() in function 'resize'\n",
            "\n",
            "Error processing 75.jpeg: OpenCV(4.8.0) /io/opencv/modules/imgproc/src/resize.cpp:4062: error: (-215:Assertion failed) !ssize.empty() in function 'resize'\n",
            "\n",
            "Processed 98.jpeg\n",
            "Error processing 87.jpeg: OpenCV(4.8.0) /io/opencv/modules/imgproc/src/resize.cpp:4062: error: (-215:Assertion failed) !ssize.empty() in function 'resize'\n",
            "\n",
            "Error processing 128.jpeg: OpenCV(4.8.0) /io/opencv/modules/imgproc/src/resize.cpp:4062: error: (-215:Assertion failed) !ssize.empty() in function 'resize'\n",
            "\n",
            "Processed 112.jpeg\n",
            "Processed 49.jpeg\n",
            "Processed 64.jpeg\n",
            "Processed 119.jpeg\n",
            "Processed 35.jpeg\n",
            "Processed 113.jpeg\n",
            "Processed 57.jpeg\n",
            "Processed 99.jpeg\n",
            "Processed 127.jpeg\n",
            "Processed 38.jpeg\n",
            "Processed 79.jpeg\n",
            "Error processing 114.jpeg: OpenCV(4.8.0) /io/opencv/modules/imgproc/src/resize.cpp:4062: error: (-215:Assertion failed) !ssize.empty() in function 'resize'\n",
            "\n",
            "Processed 84.jpeg\n",
            "Processed 122.jpeg\n",
            "Processed 46.jpeg\n",
            "Processed 62.jpeg\n",
            "Error processing 78.jpeg: OpenCV(4.8.0) /io/opencv/modules/imgproc/src/resize.cpp:4062: error: (-215:Assertion failed) !ssize.empty() in function 'resize'\n",
            "\n",
            "Processed 53.jpeg\n",
            "Processed 130.jpeg\n",
            "Processed 70.jpeg\n",
            "Processed 48.jpeg\n",
            "Error processing 109.jpeg: OpenCV(4.8.0) /io/opencv/modules/imgproc/src/resize.cpp:4062: error: (-215:Assertion failed) !ssize.empty() in function 'resize'\n",
            "\n",
            "Error processing 123.jpeg: OpenCV(4.8.0) /io/opencv/modules/imgproc/src/resize.cpp:4062: error: (-215:Assertion failed) !ssize.empty() in function 'resize'\n",
            "\n",
            "Processed 121.jpeg\n",
            "Processed 55.jpeg\n",
            "Error processing 118.jpeg: OpenCV(4.8.0) /io/opencv/modules/imgproc/src/resize.cpp:4062: error: (-215:Assertion failed) !ssize.empty() in function 'resize'\n",
            "\n",
            "OCR results saved to ocr_results_easyocr.csv\n"
          ]
        }
      ]
    }
  ]
}