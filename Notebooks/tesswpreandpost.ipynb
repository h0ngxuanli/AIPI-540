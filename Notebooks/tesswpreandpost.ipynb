{
  "cells": [
    {
      "cell_type": "markdown",
      "metadata": {
        "colab_type": "text",
        "id": "view-in-github"
      },
      "source": [
        "<a href=\"https://colab.research.google.com/github/h0ngxuanli/AIPI-540/blob/tom-ocr/tesswpreandpost.ipynb\" target=\"_parent\"><img src=\"https://colab.research.google.com/assets/colab-badge.svg\" alt=\"Open In Colab\"/></a>"
      ]
    },
    {
      "cell_type": "code",
      "execution_count": null,
      "metadata": {
        "colab": {
          "base_uri": "https://localhost:8080/"
        },
        "id": "w2dbweXaWR_r",
        "outputId": "c69e7bf6-c32e-4ffd-e776-8a3296a7e995"
      },
      "outputs": [
        {
          "name": "stdout",
          "output_type": "stream",
          "text": [
            "Cloning into 'AIPI-540'...\n",
            "remote: Enumerating objects: 453, done.\u001b[K\n",
            "remote: Counting objects: 100% (301/301), done.\u001b[K\n",
            "remote: Compressing objects: 100% (209/209), done.\u001b[K\n",
            "remote: Total 453 (delta 83), reused 263 (delta 64), pack-reused 152\u001b[K\n",
            "Receiving objects: 100% (453/453), 383.57 MiB | 34.48 MiB/s, done.\n",
            "Resolving deltas: 100% (87/87), done.\n",
            "Updating files: 100% (267/267), done.\n"
          ]
        }
      ],
      "source": [
        "!git clone 'https://github.com/h0ngxuanli/AIPI-540.git'"
      ]
    },
    {
      "cell_type": "code",
      "execution_count": null,
      "metadata": {
        "colab": {
          "base_uri": "https://localhost:8080/"
        },
        "id": "PpPK6c7hyH8E",
        "outputId": "94118145-1b65-4e1a-aaf2-d0b96c7da36b"
      },
      "outputs": [
        {
          "name": "stdout",
          "output_type": "stream",
          "text": [
            "[Errno 2] No such file or directory: 'AIPI-540'\n",
            "/content/AIPI-540\n"
          ]
        }
      ],
      "source": [
        "%cd AIPI-540"
      ]
    },
    {
      "cell_type": "code",
      "execution_count": 15,
      "metadata": {
        "colab": {
          "base_uri": "https://localhost:8080/"
        },
        "id": "hDfoYBiK8J_F",
        "outputId": "1a7fef9f-5a76-4d27-cc7c-1364178926f5"
      },
      "outputs": [
        {
          "name": "stdout",
          "output_type": "stream",
          "text": [
            "Reading package lists... Done\n",
            "Building dependency tree... Done\n",
            "Reading state information... Done\n",
            "The following additional packages will be installed:\n",
            "  tesseract-ocr-eng tesseract-ocr-osd\n",
            "The following NEW packages will be installed:\n",
            "  tesseract-ocr tesseract-ocr-eng tesseract-ocr-osd\n",
            "0 upgraded, 3 newly installed, 0 to remove and 32 not upgraded.\n",
            "Need to get 4,816 kB of archives.\n",
            "After this operation, 15.6 MB of additional disk space will be used.\n",
            "Get:1 http://archive.ubuntu.com/ubuntu jammy/universe amd64 tesseract-ocr-eng all 1:4.00~git30-7274cfa-1.1 [1,591 kB]\n",
            "Get:2 http://archive.ubuntu.com/ubuntu jammy/universe amd64 tesseract-ocr-osd all 1:4.00~git30-7274cfa-1.1 [2,990 kB]\n",
            "Get:3 http://archive.ubuntu.com/ubuntu jammy/universe amd64 tesseract-ocr amd64 4.1.1-2.1build1 [236 kB]\n",
            "Fetched 4,816 kB in 1s (5,622 kB/s)\n",
            "debconf: unable to initialize frontend: Dialog\n",
            "debconf: (No usable dialog-like program is installed, so the dialog based frontend cannot be used. at /usr/share/perl5/Debconf/FrontEnd/Dialog.pm line 78, <> line 3.)\n",
            "debconf: falling back to frontend: Readline\n",
            "debconf: unable to initialize frontend: Readline\n",
            "debconf: (This frontend requires a controlling tty.)\n",
            "debconf: falling back to frontend: Teletype\n",
            "dpkg-preconfigure: unable to re-open stdin: \n",
            "Selecting previously unselected package tesseract-ocr-eng.\n",
            "(Reading database ... 121747 files and directories currently installed.)\n",
            "Preparing to unpack .../tesseract-ocr-eng_1%3a4.00~git30-7274cfa-1.1_all.deb ...\n",
            "Unpacking tesseract-ocr-eng (1:4.00~git30-7274cfa-1.1) ...\n",
            "Selecting previously unselected package tesseract-ocr-osd.\n",
            "Preparing to unpack .../tesseract-ocr-osd_1%3a4.00~git30-7274cfa-1.1_all.deb ...\n",
            "Unpacking tesseract-ocr-osd (1:4.00~git30-7274cfa-1.1) ...\n",
            "Selecting previously unselected package tesseract-ocr.\n",
            "Preparing to unpack .../tesseract-ocr_4.1.1-2.1build1_amd64.deb ...\n",
            "Unpacking tesseract-ocr (4.1.1-2.1build1) ...\n",
            "Setting up tesseract-ocr-eng (1:4.00~git30-7274cfa-1.1) ...\n",
            "Setting up tesseract-ocr-osd (1:4.00~git30-7274cfa-1.1) ...\n",
            "Setting up tesseract-ocr (4.1.1-2.1build1) ...\n",
            "Processing triggers for man-db (2.10.2-1) ...\n"
          ]
        }
      ],
      "source": [
        "!sudo apt install tesseract-ocr"
      ]
    },
    {
      "cell_type": "code",
      "execution_count": 16,
      "metadata": {
        "colab": {
          "base_uri": "https://localhost:8080/"
        },
        "id": "nlKztXwi5vW6",
        "outputId": "e272c7d6-a3e6-413a-c04f-f306e600e297"
      },
      "outputs": [
        {
          "name": "stdout",
          "output_type": "stream",
          "text": [
            "Requirement already satisfied: pytesseract in /usr/local/lib/python3.10/dist-packages (0.3.10)\n",
            "Requirement already satisfied: packaging>=21.3 in /usr/local/lib/python3.10/dist-packages (from pytesseract) (23.2)\n",
            "Requirement already satisfied: Pillow>=8.0.0 in /usr/local/lib/python3.10/dist-packages (from pytesseract) (9.4.0)\n"
          ]
        }
      ],
      "source": [
        "!pip install pytesseract"
      ]
    },
    {
      "cell_type": "code",
      "execution_count": 11,
      "metadata": {
        "colab": {
          "base_uri": "https://localhost:8080/"
        },
        "id": "-oPEDfW66nCx",
        "outputId": "e74f932b-7b1f-4f19-afa5-ffa3209222cf"
      },
      "outputs": [
        {
          "name": "stdout",
          "output_type": "stream",
          "text": [
            "Requirement already satisfied: opencv-python in /usr/local/lib/python3.10/dist-packages (4.8.0.76)\n",
            "Requirement already satisfied: numpy>=1.21.2 in /usr/local/lib/python3.10/dist-packages (from opencv-python) (1.23.5)\n"
          ]
        }
      ],
      "source": [
        "!pip install opencv-python"
      ]
    },
    {
      "cell_type": "code",
      "execution_count": 9,
      "metadata": {
        "id": "GDtdmjWb5pMa"
      },
      "outputs": [],
      "source": [
        "import os\n",
        "from PIL import Image\n",
        "import pytesseract\n",
        "import csv"
      ]
    },
    {
      "cell_type": "code",
      "execution_count": 12,
      "metadata": {
        "id": "VcXOq1Y-ygSS"
      },
      "outputs": [],
      "source": [
        "import cv2\n",
        "import re"
      ]
    },
    {
      "cell_type": "code",
      "execution_count": 17,
      "metadata": {
        "colab": {
          "base_uri": "https://localhost:8080/"
        },
        "id": "vd-pUHDB6Iie",
        "outputId": "31a7f32a-c1d9-46af-e7dc-d1976ec82a20"
      },
      "outputs": [
        {
          "name": "stdout",
          "output_type": "stream",
          "text": [
            "No ingredients found in 32.jpeg\n",
            "No ingredients found in 42.jpeg\n",
            "Processed 45.jpeg\n",
            "No ingredients found in 38.jpeg\n",
            "Processed 16.jpg\n",
            "No ingredients found in 115.jpeg\n",
            "No ingredients found in 84.jpeg\n",
            "No ingredients found in 53.jpeg\n",
            "Processed 107.jpeg\n",
            "Processed 131.jpeg\n",
            "No ingredients found in 51.jpeg\n",
            "No ingredients found in 103.jpeg\n",
            "No ingredients found in 39.jpeg\n",
            "No ingredients found in 114.jpeg\n",
            "No ingredients found in 116.jpeg\n",
            "Processed 125.jpeg\n",
            "No ingredients found in 121.jpeg\n",
            "No ingredients found in 113.jpeg\n",
            "No ingredients found in 48.jpeg\n",
            "No ingredients found in 61.jpeg\n",
            "No ingredients found in 112.jpeg\n",
            "No ingredients found in 128.jpeg\n",
            "No ingredients found in 94.jpeg\n",
            "No ingredients found in 81.jpeg\n",
            "Processed 3.jpg\n",
            "No ingredients found in 71.jpeg\n",
            "No ingredients found in 18.jpg\n",
            "No ingredients found in 35.jpeg\n",
            "No ingredients found in 120.jpeg\n",
            "Processed 12.jpg\n",
            "No ingredients found in 118.jpeg\n",
            "No ingredients found in 124.jpeg\n",
            "No ingredients found in 108.jpeg\n",
            "No ingredients found in 22.jpg\n",
            "No ingredients found in 26.jpeg\n",
            "Processed 76.jpeg\n",
            "No ingredients found in 87.jpeg\n",
            "No ingredients found in 23.jpg\n",
            "No ingredients found in 20.jpg\n",
            "Processed 15.jpg\n",
            "Processed 102.jpeg\n",
            "No ingredients found in 127.jpeg\n",
            "Processed 21.jpg\n",
            "No ingredients found in 104.jpeg\n",
            "No ingredients found in 100.jpeg\n",
            "Processed 69.jpeg\n",
            "No ingredients found in 86.jpeg\n",
            "Processed 97.jpeg\n",
            "No ingredients found in 73.jpeg\n",
            "No ingredients found in 79.jpeg\n",
            "No ingredients found in 119.jpeg\n",
            "No ingredients found in 30.jpeg\n",
            "Processed 34.jpeg\n",
            "Processed 89.jpeg\n",
            "No ingredients found in 130.jpeg\n",
            "Processed 56.jpeg\n",
            "No ingredients found in 88.jpeg\n",
            "No ingredients found in 93.jpeg\n",
            "No ingredients found in 96.jpeg\n",
            "No ingredients found in 31.jpeg\n",
            "Processed 27.jpeg\n",
            "Processed 14.jpg\n",
            "No ingredients found in 65.jpeg\n",
            "No ingredients found in 78.jpeg\n",
            "No ingredients found in 98.jpeg\n",
            "No ingredients found in 6.jpg\n",
            "No ingredients found in 24.jpeg\n",
            "No ingredients found in 60.jpeg\n",
            "No ingredients found in 13.jpg\n",
            "No ingredients found in 101.jpeg\n",
            "Processed 5.jpg\n",
            "No ingredients found in 99.jpeg\n",
            "Processed 54.jpeg\n",
            "No ingredients found in 64.jpeg\n",
            "No ingredients found in 1.jpg\n",
            "Processed 83.jpeg\n",
            "No ingredients found in 4.jpg\n",
            "Processed 67.jpeg\n",
            "No ingredients found in 122.jpeg\n",
            "No ingredients found in 43.jpeg\n",
            "No ingredients found in 50.jpeg\n",
            "No ingredients found in 47.jpeg\n",
            "No ingredients found in 11.jpg\n",
            "No ingredients found in 111.jpeg\n",
            "No ingredients found in 28.jpeg\n",
            "No ingredients found in 72.jpeg\n",
            "Processed 7.jpg\n",
            "No ingredients found in 55.jpeg\n",
            "No ingredients found in 57.jpeg\n",
            "No ingredients found in 92.jpeg\n",
            "No ingredients found in 117.jpeg\n",
            "No ingredients found in 106.jpeg\n",
            "No ingredients found in 70.jpeg\n",
            "No ingredients found in 95.jpeg\n",
            "No ingredients found in 29.jpeg\n",
            "No ingredients found in 91.jpeg\n",
            "No ingredients found in 19.jpg\n",
            "No ingredients found in 82.jpeg\n",
            "No ingredients found in 129.jpeg\n",
            "No ingredients found in 37.jpeg\n",
            "No ingredients found in 46.jpeg\n",
            "No ingredients found in 110.jpeg\n",
            "No ingredients found in 52.jpeg\n",
            "No ingredients found in 44.jpeg\n",
            "Processed 68.jpeg\n",
            "Processed 59.jpeg\n",
            "No ingredients found in 40.jpeg\n",
            "Processed 74.jpeg\n",
            "No ingredients found in 109.jpeg\n",
            "No ingredients found in 75.jpeg\n",
            "No ingredients found in 126.jpeg\n",
            "No ingredients found in 49.jpeg\n",
            "No ingredients found in 8.jpg\n",
            "Processed 33.jpeg\n",
            "No ingredients found in 10.jpg\n",
            "No ingredients found in 85.jpeg\n",
            "No ingredients found in 80.jpeg\n",
            "No ingredients found in 36.jpeg\n",
            "Processed 90.jpeg\n",
            "No ingredients found in 77.jpeg\n",
            "No ingredients found in 25.jpeg\n",
            "Processed 58.jpeg\n",
            "Processed 41.jpeg\n",
            "Processed 66.jpeg\n",
            "No ingredients found in 17.jpg\n",
            "No ingredients found in 2.jpg\n",
            "No ingredients found in 63.jpeg\n",
            "Processed 62.jpeg\n",
            "No ingredients found in 105.jpeg\n",
            "No ingredients found in 9.jpg\n",
            "No ingredients found in 123.jpeg\n",
            "OCR results and extracted ingredients have been saved to prenpost_tess.txt\n"
          ]
        }
      ],
      "source": [
        "## Specify the directory containing your images\n",
        "image_folder_path = './JPEG_Dataset/'\n",
        "\n",
        "# Output file to save the OCR results\n",
        "output_file_path = 'prenpost_tess.txt'\n",
        "\n",
        "# Function for preprocessing\n",
        "def preprocess_image(image_path):\n",
        "    image = cv2.imread(image_path)\n",
        "    gray = cv2.cvtColor(image, cv2.COLOR_BGR2GRAY)\n",
        "    _, thresh = cv2.threshold(gray, 150, 255, cv2.THRESH_BINARY + cv2.THRESH_OTSU)\n",
        "    return thresh\n",
        "\n",
        "# Function for post-processing and extracting ingredients\n",
        "def extract_ingredients(text):\n",
        "    # Attempt to find an ingredients list in the OCR output\n",
        "    ingredients_text = re.search(r'Ingredients: (.*)', text, re.IGNORECASE)\n",
        "    if ingredients_text:\n",
        "        ingredients = ingredients_text.group(1)\n",
        "        # Clean up the ingredients list\n",
        "        cleaned_ingredients = re.sub(r'[^a-zA-Z, ]+', '', ingredients)\n",
        "        return cleaned_ingredients\n",
        "    return None  # Return None if no ingredients list is found\n",
        "\n",
        "# Processing each image in the directory\n",
        "with open(output_file_path, 'w', encoding='utf-8') as output_file:\n",
        "    for image_file in os.listdir(image_folder_path):\n",
        "        if image_file.lower().endswith((\".jpg\", \".jpeg\")):\n",
        "            image_path = os.path.join(image_folder_path, image_file)\n",
        "\n",
        "            preprocessed_image = preprocess_image(image_path)\n",
        "\n",
        "            # OCR with Tesseract on preprocessed image\n",
        "            custom_config = r'--oem 3 --psm 6'\n",
        "            extracted_text = pytesseract.image_to_string(preprocessed_image, config=custom_config)\n",
        "\n",
        "            # Extract and clean up ingredients from the OCR output\n",
        "            processed_text = extract_ingredients(extracted_text)\n",
        "\n",
        "            if processed_text:\n",
        "                # Write the image name and processed text (ingredients) to the output file\n",
        "                output_file.write(f\"Image: {image_file}\\nExtracted Ingredients: {processed_text}\\n\")\n",
        "                output_file.write(\"-\" * 40 + \"\\n\")  # Separator between entries\n",
        "                print(f\"Processed {image_file}\")\n",
        "            else:\n",
        "                print(f\"No ingredients found in {image_file}\")\n",
        "\n",
        "print(f\"OCR results and extracted ingredients have been saved to {output_file_path}\")"
      ]
    }
  ],
  "metadata": {
    "colab": {
      "authorship_tag": "ABX9TyOK4emFMDY8X2SrkRyEpBEp",
      "include_colab_link": true,
      "provenance": []
    },
    "kernelspec": {
      "display_name": "Python 3",
      "name": "python3"
    },
    "language_info": {
      "name": "python"
    }
  },
  "nbformat": 4,
  "nbformat_minor": 0
}
