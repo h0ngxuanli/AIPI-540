{
 "cells": [
  {
   "cell_type": "code",
   "execution_count": 3,
   "id": "b6cfc700",
   "metadata": {},
   "outputs": [],
   "source": [
    "import os\n",
    "import glob\n",
    "\n",
    "def rename_files_in_folder(folder_path):\n",
    "    # Get all files in the folder\n",
    "    files = glob.glob(os.path.join(folder_path, '*'))\n",
    "    \n",
    "    # Sort files in alphabetical order\n",
    "    files.sort()\n",
    "    \n",
    "    # Rename files\n",
    "    for i, file in enumerate(files, start=1):\n",
    "        # Get the file extension\n",
    "        extension = os.path.splitext(file)[1]\n",
    "        \n",
    "        # Construct new file path\n",
    "        new_file_path = os.path.join(folder_path, f'{i}{extension}')\n",
    "        \n",
    "        # Rename the file\n",
    "        os.rename(file, new_file_path)"
   ]
  },
  {
   "cell_type": "code",
   "execution_count": 4,
   "id": "3d5b693d",
   "metadata": {},
   "outputs": [],
   "source": [
    "# Call the function with your folder path\n",
    "folder = 'JPEG_Dataset'\n",
    "rename_files_in_folder(folder)"
   ]
  }
 ],
 "metadata": {
  "kernelspec": {
   "display_name": "Python 3 (ipykernel)",
   "language": "python",
   "name": "python3"
  },
  "language_info": {
   "codemirror_mode": {
    "name": "ipython",
    "version": 3
   },
   "file_extension": ".py",
   "mimetype": "text/x-python",
   "name": "python",
   "nbconvert_exporter": "python",
   "pygments_lexer": "ipython3",
   "version": "3.8.18"
  }
 },
 "nbformat": 4,
 "nbformat_minor": 5
}
